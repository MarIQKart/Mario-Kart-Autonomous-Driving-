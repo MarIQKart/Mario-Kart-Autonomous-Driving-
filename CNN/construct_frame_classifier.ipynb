{
 "cells": [
  {
   "cell_type": "code",
   "execution_count": 1,
   "metadata": {},
   "outputs": [],
   "source": [
    "import os\n",
    "import matplotlib.pyplot as plt\n",
    "from PIL import Image\n",
    "import pandas as pd\n",
    "import numpy as np"
   ]
  },
  {
   "cell_type": "code",
   "execution_count": 2,
   "metadata": {},
   "outputs": [
    {
     "data": {
      "text/plain": [
       "['center',\n",
       " 'near_left',\n",
       " 'near_right',\n",
       " 'off_left',\n",
       " 'off_right',\n",
       " 'tunnel_left',\n",
       " 'tunnel_right',\n",
       " 'wall_left',\n",
       " 'wall_right']"
      ]
     },
     "execution_count": 2,
     "metadata": {},
     "output_type": "execute_result"
    }
   ],
   "source": [
    "directory_list = [ d for d in os.listdir( 'dataset' ) ]\n",
    "directory_list"
   ]
  },
  {
   "cell_type": "code",
   "execution_count": 3,
   "metadata": {},
   "outputs": [
    {
     "data": {
      "text/plain": [
       "['dataset/center/frame0.jpg',\n",
       " 'dataset/center/frame1.jpg',\n",
       " 'dataset/center/frame10.jpg',\n",
       " 'dataset/center/frame100.jpg',\n",
       " 'dataset/center/frame1000.jpg',\n",
       " 'dataset/center/frame1001.jpg',\n",
       " 'dataset/center/frame1002.jpg',\n",
       " 'dataset/center/frame1003.jpg',\n",
       " 'dataset/center/frame1004.jpg',\n",
       " 'dataset/center/frame1005.jpg']"
      ]
     },
     "execution_count": 3,
     "metadata": {},
     "output_type": "execute_result"
    }
   ],
   "source": [
    "file_list = list( )\n",
    "for d in directory_list:\n",
    "    files      = [ 'dataset/{}/{}'.format( d , f ) for f in os.listdir( 'dataset/{}'.format( d ) ) ]\n",
    "    file_list += files\n",
    "file_list[:10]"
   ]
  },
  {
   "cell_type": "code",
   "execution_count": 4,
   "metadata": {},
   "outputs": [
    {
     "name": "stdout",
     "output_type": "stream",
     "text": [
      "Original Shape = 640 x 802 => 513280 Pixels\n",
      "Resized Shape = 64 x 80 => 5120 Pixels\n"
     ]
    }
   ],
   "source": [
    "H,W = np.shape( Image.open( file_list[0] ).convert( 'L' ) )\n",
    "\n",
    "resize_scale = 10\n",
    "H2 , W2 = H//resize_scale , W//resize_scale\n",
    "\n",
    "print( 'Original Shape = %d x %d => %d Pixels' % ( H , W , H*W ) )\n",
    "print( 'Resized Shape = %d x %d => %d Pixels' % ( H2 , W2 , H2*W2 ) )"
   ]
  },
  {
   "cell_type": "code",
   "execution_count": 5,
   "metadata": {},
   "outputs": [
    {
     "name": "stdout",
     "output_type": "stream",
     "text": [
      "Loading Images...\n",
      "Image 356/35657 Loaded...\n",
      "Image 712/35657 Loaded...\n",
      "Image 1068/35657 Loaded...\n",
      "Image 1424/35657 Loaded...\n",
      "Image 1780/35657 Loaded...\n",
      "Image 2136/35657 Loaded...\n",
      "Image 2492/35657 Loaded...\n",
      "Image 2848/35657 Loaded...\n",
      "Image 3204/35657 Loaded...\n",
      "Image 3560/35657 Loaded...\n",
      "Image 3916/35657 Loaded...\n",
      "Image 4272/35657 Loaded...\n",
      "Image 4628/35657 Loaded...\n",
      "Image 4984/35657 Loaded...\n",
      "Image 5340/35657 Loaded...\n",
      "Image 5696/35657 Loaded...\n",
      "Image 6052/35657 Loaded...\n",
      "Image 6408/35657 Loaded...\n",
      "Image 6764/35657 Loaded...\n",
      "Image 7120/35657 Loaded...\n",
      "Image 7476/35657 Loaded...\n",
      "Image 7832/35657 Loaded...\n",
      "Image 8188/35657 Loaded...\n",
      "Image 8544/35657 Loaded...\n",
      "Image 8900/35657 Loaded...\n",
      "Image 9256/35657 Loaded...\n",
      "Image 9612/35657 Loaded...\n",
      "Image 9968/35657 Loaded...\n",
      "Image 10324/35657 Loaded...\n",
      "Image 10680/35657 Loaded...\n",
      "Image 11036/35657 Loaded...\n",
      "Image 11392/35657 Loaded...\n",
      "Image 11748/35657 Loaded...\n",
      "Image 12104/35657 Loaded...\n",
      "Image 12460/35657 Loaded...\n",
      "Image 12816/35657 Loaded...\n",
      "Image 13172/35657 Loaded...\n",
      "Image 13528/35657 Loaded...\n",
      "Image 13884/35657 Loaded...\n",
      "Image 14240/35657 Loaded...\n",
      "Image 14596/35657 Loaded...\n",
      "Image 14952/35657 Loaded...\n",
      "Image 15308/35657 Loaded...\n",
      "Image 15664/35657 Loaded...\n",
      "Image 16020/35657 Loaded...\n",
      "Image 16376/35657 Loaded...\n",
      "Image 16732/35657 Loaded...\n",
      "Image 17088/35657 Loaded...\n",
      "Image 17444/35657 Loaded...\n",
      "Image 17800/35657 Loaded...\n",
      "Image 18156/35657 Loaded...\n",
      "Image 18512/35657 Loaded...\n",
      "Image 18868/35657 Loaded...\n",
      "Image 19224/35657 Loaded...\n",
      "Image 19580/35657 Loaded...\n",
      "Image 19936/35657 Loaded...\n",
      "Image 20292/35657 Loaded...\n",
      "Image 20648/35657 Loaded...\n",
      "Image 21004/35657 Loaded...\n",
      "Image 21360/35657 Loaded...\n",
      "Image 21716/35657 Loaded...\n",
      "Image 22072/35657 Loaded...\n",
      "Image 22428/35657 Loaded...\n",
      "Image 22784/35657 Loaded...\n",
      "Image 23140/35657 Loaded...\n",
      "Image 23496/35657 Loaded...\n",
      "Image 23852/35657 Loaded...\n",
      "Image 24208/35657 Loaded...\n",
      "Image 24564/35657 Loaded...\n",
      "Image 24920/35657 Loaded...\n",
      "Image 25276/35657 Loaded...\n",
      "Image 25632/35657 Loaded...\n",
      "Image 25988/35657 Loaded...\n",
      "Image 26344/35657 Loaded...\n",
      "Image 26700/35657 Loaded...\n",
      "Image 27056/35657 Loaded...\n",
      "Image 27412/35657 Loaded...\n",
      "Image 27768/35657 Loaded...\n",
      "Image 28124/35657 Loaded...\n",
      "Image 28480/35657 Loaded...\n",
      "Image 28836/35657 Loaded...\n",
      "Image 29192/35657 Loaded...\n",
      "Image 29548/35657 Loaded...\n",
      "Image 29904/35657 Loaded...\n",
      "Image 30260/35657 Loaded...\n",
      "Image 30616/35657 Loaded...\n",
      "Image 30972/35657 Loaded...\n",
      "Image 31328/35657 Loaded...\n",
      "Image 31684/35657 Loaded...\n",
      "Image 32040/35657 Loaded...\n",
      "Image 32396/35657 Loaded...\n",
      "Image 32752/35657 Loaded...\n",
      "Image 33108/35657 Loaded...\n",
      "Image 33464/35657 Loaded...\n",
      "Image 33820/35657 Loaded...\n",
      "Image 34176/35657 Loaded...\n",
      "Image 34532/35657 Loaded...\n",
      "Image 34888/35657 Loaded...\n",
      "Image 35244/35657 Loaded...\n",
      "Image 35600/35657 Loaded...\n",
      "Done\n"
     ]
    }
   ],
   "source": [
    "classes = {\n",
    "    0:'center',\n",
    "    1:'near_left',\n",
    "    2:'near_right',\n",
    "    3:'off_left',\n",
    "    4:'off_right',\n",
    "    5:'wall_left',\n",
    "    6:'wall_right',\n",
    "    7:'tunnel_left',\n",
    "    8:'tunnel_right',\n",
    "    'center':0,\n",
    "    'near_left':1,\n",
    "    'near_right':2,\n",
    "    'off_left':3,\n",
    "    'off_right':4,\n",
    "    'wall_left':5,\n",
    "    'wall_right':6,\n",
    "    'tunnel_left':7,\n",
    "    'tunnel_right':8\n",
    "}\n",
    "n_images = len( file_list )\n",
    "arr = np.zeros( ( n_images , H2 , W2 ) )\n",
    "labels = list()\n",
    "print('Loading Images...')\n",
    "for i in range( n_images ):\n",
    "    im = Image.open( file_list[i] ).convert( 'L' ).resize( ( W2 , H2 ) )\n",
    "    arr[i,:] = np.asarray( im )\n",
    "    labels.append(classes[file_list[i].split('/')[1]])\n",
    "    if (i+1) % (n_images//100) == 0:\n",
    "        print('Image {}/{} Loaded...'.format(i+1,n_images))\n",
    "labels = np.array( labels )\n",
    "print('Done')"
   ]
  },
  {
   "cell_type": "code",
   "execution_count": 6,
   "metadata": {},
   "outputs": [
    {
     "data": {
      "text/plain": [
       "\"\\nimport os\\nimport matplotlib.pyplot as plt\\nfrom PIL import Image\\nimport pandas as pd\\nimport numpy as np\\n\\nclasses = {\\n    0:'center',\\n    1:'near_left',\\n    2:'near_right',\\n    3:'off_left',\\n    4:'off_right',\\n    5:'wall_left',\\n    6:'wall_right'\\n}\\ndata = np.array([])\\nlabels = np.array([])\\nold_size = Image.open('dataset/center/frame0.jpg').size\\nresize_factor = 10\\ncounter = 0\\nnew_size = (old_size[0]//resize_factor, old_size[1]//resize_factor)\\nfor filename in os.listdir('dataset/center'):\\n    if filename.endswith('.jpg'):\\n        print('dataset/center/{}'.format(filename))\\n        im = Image.open('dataset/center/{}'.format(filename)).convert('L').resize(new_size)\\n        pixels = np.asarray(im)/255\\n        data = np.append(data, pixels)\\n        labels = np.append(labels,[0])\\n        counter += 1\\nfor filename in os.listdir('dataset/near_left'):\\n    if filename.endswith('.jpg'):\\n        print('dataset/near_left/{}'.format(filename))\\n        im = Image.open('dataset/near_left/{}'.format(filename)).convert('L').resize(new_size)\\n        pixels = np.asarray(im)/255\\n        data = np.append(data, pixels)\\n        labels = np.append(labels,[1])\\n        counter += 1\\nfor filename in os.listdir('dataset/near_right'):\\n    if filename.endswith('.jpg'):\\n        print('dataset/near_right/{}'.format(filename))\\n        im = Image.open('dataset/near_right/{}'.format(filename)).convert('L').resize(new_size)\\n        pixels = np.asarray(im)/255\\n        data = np.append(data, pixels)\\n        labels = np.append(labels,[2])\\n        counter += 1\\nfor filename in os.listdir('dataset/off_left'):\\n    if filename.endswith('.jpg'):\\n        print('dataset/off_left/{}'.format(filename))\\n        im = Image.open('dataset/off_left/{}'.format(filename)).convert('L').resize(new_size)\\n        pixels = np.asarray(im)/255\\n        data = np.append(data, pixels)\\n        labels = np.append(labels,[3])\\n        counter += 1\\nfor filename in os.listdir('dataset/off_right'):\\n    if filename.endswith('.jpg'):\\n        print('dataset/off_right/{}'.format(filename))\\n        im = Image.open('dataset/off_right/{}'.format(filename)).convert('L').resize(new_size)\\n        pixels = np.asarray(im)/255\\n        data = np.append(data, pixels)\\n        labels = np.append(labels,[4])\\n        counter += 1\\nfor filename in os.listdir('dataset/wall_left'):\\n    if filename.endswith('.jpg'):\\n        print('dataset/wall_left/{}'.format(filename))\\n        im = Image.open('dataset/wall_left/{}'.format(filename)).convert('L').resize(new_size)\\n        pixels = np.asarray(im)/255\\n        data = np.append(data, pixels)\\n        labels = np.append(labels,[5])\\n        counter += 1\\nfor filename in os.listdir('dataset/wall_right'):\\n    if filename.endswith('.jpg'):\\n        print('dataset/wall_right/{}'.format(filename))\\n        im = Image.open('dataset/wall_right/{}'.format(filename)).convert('L').resize(new_size)\\n        pixels = np.asarray(im)/255\\n        data = np.append(data, pixels)\\n        labels = np.append(labels,[6])\\n        counter += 1\\n\\ndata = data.reshape((counter,pixels.shape[0], pixels.shape[1]))\\n#plt.figure()\\n#plt.imshow(data.mean(axis=0),cmap='gray')\\n#plt.show()\\n\""
      ]
     },
     "execution_count": 6,
     "metadata": {},
     "output_type": "execute_result"
    }
   ],
   "source": [
    "'''\n",
    "import os\n",
    "import matplotlib.pyplot as plt\n",
    "from PIL import Image\n",
    "import pandas as pd\n",
    "import numpy as np\n",
    "\n",
    "classes = {\n",
    "    0:'center',\n",
    "    1:'near_left',\n",
    "    2:'near_right',\n",
    "    3:'off_left',\n",
    "    4:'off_right',\n",
    "    5:'wall_left',\n",
    "    6:'wall_right'\n",
    "}\n",
    "data = np.array([])\n",
    "labels = np.array([])\n",
    "old_size = Image.open('dataset/center/frame0.jpg').size\n",
    "resize_factor = 10\n",
    "counter = 0\n",
    "new_size = (old_size[0]//resize_factor, old_size[1]//resize_factor)\n",
    "for filename in os.listdir('dataset/center'):\n",
    "    if filename.endswith('.jpg'):\n",
    "        print('dataset/center/{}'.format(filename))\n",
    "        im = Image.open('dataset/center/{}'.format(filename)).convert('L').resize(new_size)\n",
    "        pixels = np.asarray(im)/255\n",
    "        data = np.append(data, pixels)\n",
    "        labels = np.append(labels,[0])\n",
    "        counter += 1\n",
    "for filename in os.listdir('dataset/near_left'):\n",
    "    if filename.endswith('.jpg'):\n",
    "        print('dataset/near_left/{}'.format(filename))\n",
    "        im = Image.open('dataset/near_left/{}'.format(filename)).convert('L').resize(new_size)\n",
    "        pixels = np.asarray(im)/255\n",
    "        data = np.append(data, pixels)\n",
    "        labels = np.append(labels,[1])\n",
    "        counter += 1\n",
    "for filename in os.listdir('dataset/near_right'):\n",
    "    if filename.endswith('.jpg'):\n",
    "        print('dataset/near_right/{}'.format(filename))\n",
    "        im = Image.open('dataset/near_right/{}'.format(filename)).convert('L').resize(new_size)\n",
    "        pixels = np.asarray(im)/255\n",
    "        data = np.append(data, pixels)\n",
    "        labels = np.append(labels,[2])\n",
    "        counter += 1\n",
    "for filename in os.listdir('dataset/off_left'):\n",
    "    if filename.endswith('.jpg'):\n",
    "        print('dataset/off_left/{}'.format(filename))\n",
    "        im = Image.open('dataset/off_left/{}'.format(filename)).convert('L').resize(new_size)\n",
    "        pixels = np.asarray(im)/255\n",
    "        data = np.append(data, pixels)\n",
    "        labels = np.append(labels,[3])\n",
    "        counter += 1\n",
    "for filename in os.listdir('dataset/off_right'):\n",
    "    if filename.endswith('.jpg'):\n",
    "        print('dataset/off_right/{}'.format(filename))\n",
    "        im = Image.open('dataset/off_right/{}'.format(filename)).convert('L').resize(new_size)\n",
    "        pixels = np.asarray(im)/255\n",
    "        data = np.append(data, pixels)\n",
    "        labels = np.append(labels,[4])\n",
    "        counter += 1\n",
    "for filename in os.listdir('dataset/wall_left'):\n",
    "    if filename.endswith('.jpg'):\n",
    "        print('dataset/wall_left/{}'.format(filename))\n",
    "        im = Image.open('dataset/wall_left/{}'.format(filename)).convert('L').resize(new_size)\n",
    "        pixels = np.asarray(im)/255\n",
    "        data = np.append(data, pixels)\n",
    "        labels = np.append(labels,[5])\n",
    "        counter += 1\n",
    "for filename in os.listdir('dataset/wall_right'):\n",
    "    if filename.endswith('.jpg'):\n",
    "        print('dataset/wall_right/{}'.format(filename))\n",
    "        im = Image.open('dataset/wall_right/{}'.format(filename)).convert('L').resize(new_size)\n",
    "        pixels = np.asarray(im)/255\n",
    "        data = np.append(data, pixels)\n",
    "        labels = np.append(labels,[6])\n",
    "        counter += 1\n",
    "\n",
    "data = data.reshape((counter,pixels.shape[0], pixels.shape[1]))\n",
    "#plt.figure()\n",
    "#plt.imshow(data.mean(axis=0),cmap='gray')\n",
    "#plt.show()\n",
    "'''"
   ]
  },
  {
   "cell_type": "code",
   "execution_count": 7,
   "metadata": {},
   "outputs": [],
   "source": [
    "from sklearn.model_selection import train_test_split\n",
    "X_train, X_test, y_train, y_test = train_test_split(arr,labels)\n",
    "X_train = X_train.reshape(X_train.shape[0], X_train.shape[1], X_train.shape[2], 1)\n",
    "X_test  = X_test.reshape(X_test.shape[0], X_test.shape[1], X_test.shape[2], 1)"
   ]
  },
  {
   "cell_type": "code",
   "execution_count": 14,
   "metadata": {},
   "outputs": [
    {
     "name": "stdout",
     "output_type": "stream",
     "text": [
      "Tensor(\"conv_input_1:0\", shape=(None, 64, 80, 1), dtype=float32)\n"
     ]
    }
   ],
   "source": [
    "import tensorflow as tf\n",
    "from tensorflow import keras\n",
    "\n",
    "gpus= tf.config.experimental.list_physical_devices('GPU')\n",
    "tf.config.experimental.set_memory_growth(gpus[0], True)\n",
    "\n",
    "conv_input_size  = ( arr[0].shape[0] , arr[0].shape[1] , 1 )\n",
    "conv_input_layer = keras.Input( conv_input_size , name=\"conv_input\" )   # create input layer\n",
    "print( conv_input_layer )"
   ]
  },
  {
   "cell_type": "code",
   "execution_count": 15,
   "metadata": {},
   "outputs": [],
   "source": [
    "# === 3x3 Convolution Layer/Filter === #\n",
    "# Output shape = 32 (not sure why, was given)\n",
    "# Kernel size  = 3x3 (3x3 filter)\n",
    "# Activation   = relu (ReLu activation function)\n",
    "conv_layer_1 = keras.layers.Conv2D( 32, \n",
    "                                    kernel_size=( 3 , 3 ), \n",
    "                                    activation=\"relu\",\n",
    "                                    name=\"conv_layer_1\" )\n",
    "\n",
    "# === Maxpool Layer to Reduce Dimensionality === #\n",
    "# Pool Size = 2x2 \n",
    "maxpool_1 = keras.layers.MaxPooling2D( pool_size=( 2 , 2 ),\n",
    "                                       name=\"maxpool_1\" )\n",
    "\n",
    "# === 3x3 Convolutional Layer/Filter === #\n",
    "# Output Shape = 64 (not sure why, was given)\n",
    "# Kernel size  = 3x3 (3x3 filter)\n",
    "# Activation   = relu (ReLu activation function)\n",
    "conv_layer_2 = keras.layers.Conv2D( 64, \n",
    "                                    kernel_size=( 3 , 3 ), \n",
    "                                    activation=\"relu\",\n",
    "                                    name=\"conv_layer_2\" )\n",
    "\n",
    "# === Final Maxpool Layer to Reduce Dimensionality Once More === #\n",
    "# Pool Size = 2x2\n",
    "maxpool_2 = keras.layers.MaxPooling2D( pool_size=( 2 , 2 ),\n",
    "                                       name=\"maxpool_2\" )\n",
    "\n",
    "# === Flatten the Layers (I'm guessing to flatten for the \"dense\" output layer) === #\n",
    "flatten = keras.layers.Flatten( )\n",
    "\n",
    "# === Add a Dense Layer to Map the Above to one of 10 classes === #\n",
    "conv_class_layer = keras.layers.Dense( 9 , activation=\"softmax\" )"
   ]
  },
  {
   "cell_type": "code",
   "execution_count": 16,
   "metadata": {},
   "outputs": [],
   "source": [
    "# === List of the Layers Made in the Last Cell === #\n",
    "conv_layers = [conv_input_layer,\n",
    "               conv_layer_1,\n",
    "               maxpool_1,\n",
    "               conv_layer_2,\n",
    "               maxpool_2,\n",
    "               flatten,\n",
    "               conv_class_layer]"
   ]
  },
  {
   "cell_type": "code",
   "execution_count": 17,
   "metadata": {},
   "outputs": [
    {
     "name": "stdout",
     "output_type": "stream",
     "text": [
      "Model: \"sequential_1\"\n",
      "_________________________________________________________________\n",
      "Layer (type)                 Output Shape              Param #   \n",
      "=================================================================\n",
      "conv_layer_1 (Conv2D)        (None, 62, 78, 32)        320       \n",
      "_________________________________________________________________\n",
      "maxpool_1 (MaxPooling2D)     (None, 31, 39, 32)        0         \n",
      "_________________________________________________________________\n",
      "conv_layer_2 (Conv2D)        (None, 29, 37, 64)        18496     \n",
      "_________________________________________________________________\n",
      "maxpool_2 (MaxPooling2D)     (None, 14, 18, 64)        0         \n",
      "_________________________________________________________________\n",
      "flatten_1 (Flatten)          (None, 16128)             0         \n",
      "_________________________________________________________________\n",
      "dense_1 (Dense)              (None, 9)                 145161    \n",
      "=================================================================\n",
      "Total params: 163,977\n",
      "Trainable params: 163,977\n",
      "Non-trainable params: 0\n",
      "_________________________________________________________________\n"
     ]
    }
   ],
   "source": [
    "# === Construct and Summarize Keras Model We Defined === #\n",
    "conv_model = keras.Sequential( layers=conv_layers )\n",
    "conv_model.summary( )"
   ]
  },
  {
   "cell_type": "code",
   "execution_count": 18,
   "metadata": {},
   "outputs": [],
   "source": [
    "conv_model.compile( loss=\"sparse_categorical_crossentropy\" , optimizer=\"adam\" , metrics=[\"accuracy\"] )"
   ]
  },
  {
   "cell_type": "code",
   "execution_count": 19,
   "metadata": {},
   "outputs": [
    {
     "name": "stdout",
     "output_type": "stream",
     "text": [
      "Train on 26742 samples, validate on 8915 samples\n",
      "Epoch 1/100\n",
      "26742/26742 [==============================] - 3s 122us/sample - loss: 4.8856 - accuracy: 0.8024 - val_loss: 0.1438 - val_accuracy: 0.9494\n",
      "Epoch 2/100\n",
      "26742/26742 [==============================] - 3s 109us/sample - loss: 0.1085 - accuracy: 0.9642 - val_loss: 0.0997 - val_accuracy: 0.9644\n",
      "Epoch 3/100\n",
      "26742/26742 [==============================] - 3s 109us/sample - loss: 0.0694 - accuracy: 0.9775 - val_loss: 0.0754 - val_accuracy: 0.9735\n",
      "Epoch 4/100\n",
      "26742/26742 [==============================] - 3s 109us/sample - loss: 0.0505 - accuracy: 0.9834 - val_loss: 0.0721 - val_accuracy: 0.9773\n",
      "Epoch 5/100\n",
      "26742/26742 [==============================] - 3s 110us/sample - loss: 0.0416 - accuracy: 0.9852 - val_loss: 0.0645 - val_accuracy: 0.9807\n",
      "Epoch 6/100\n",
      "26742/26742 [==============================] - 3s 111us/sample - loss: 0.0355 - accuracy: 0.9880 - val_loss: 0.0521 - val_accuracy: 0.9832\n",
      "Epoch 7/100\n",
      "26742/26742 [==============================] - 3s 110us/sample - loss: 0.0265 - accuracy: 0.9911 - val_loss: 0.0449 - val_accuracy: 0.9871\n",
      "Epoch 8/100\n",
      "26742/26742 [==============================] - 3s 110us/sample - loss: 0.0140 - accuracy: 0.9956 - val_loss: 0.0368 - val_accuracy: 0.9890\n",
      "Epoch 9/100\n",
      "26742/26742 [==============================] - 3s 110us/sample - loss: 0.0165 - accuracy: 0.9940 - val_loss: 0.0342 - val_accuracy: 0.9908\n",
      "Epoch 10/100\n",
      "26742/26742 [==============================] - 3s 110us/sample - loss: 0.0242 - accuracy: 0.9923 - val_loss: 0.0379 - val_accuracy: 0.9890\n",
      "Epoch 11/100\n",
      "26742/26742 [==============================] - 3s 109us/sample - loss: 0.0194 - accuracy: 0.9935 - val_loss: 0.0359 - val_accuracy: 0.9887\n",
      "Epoch 12/100\n",
      "26742/26742 [==============================] - 3s 109us/sample - loss: 0.0090 - accuracy: 0.9973 - val_loss: 0.0226 - val_accuracy: 0.9950\n",
      "Epoch 13/100\n",
      "26742/26742 [==============================] - 3s 109us/sample - loss: 0.0061 - accuracy: 0.9980 - val_loss: 0.0249 - val_accuracy: 0.9941\n",
      "Epoch 14/100\n",
      "26742/26742 [==============================] - 3s 109us/sample - loss: 0.0086 - accuracy: 0.9973 - val_loss: 0.0279 - val_accuracy: 0.9926\n",
      "Epoch 15/100\n",
      "26742/26742 [==============================] - 3s 109us/sample - loss: 0.0215 - accuracy: 0.9936 - val_loss: 0.0263 - val_accuracy: 0.9920\n",
      "Epoch 16/100\n",
      "26742/26742 [==============================] - 3s 110us/sample - loss: 0.0683 - accuracy: 0.9803 - val_loss: 0.0488 - val_accuracy: 0.9882\n",
      "Epoch 17/100\n",
      "26742/26742 [==============================] - 3s 109us/sample - loss: 0.0158 - accuracy: 0.9954 - val_loss: 0.0261 - val_accuracy: 0.9938\n",
      "Epoch 18/100\n",
      "26742/26742 [==============================] - 3s 109us/sample - loss: 0.0096 - accuracy: 0.9969 - val_loss: 0.0263 - val_accuracy: 0.9939\n",
      "Epoch 19/100\n",
      "26742/26742 [==============================] - 3s 110us/sample - loss: 0.0057 - accuracy: 0.9981 - val_loss: 0.0210 - val_accuracy: 0.9937\n",
      "Epoch 20/100\n",
      "26742/26742 [==============================] - 3s 109us/sample - loss: 0.0043 - accuracy: 0.9987 - val_loss: 0.0482 - val_accuracy: 0.9909\n",
      "Epoch 21/100\n",
      "26742/26742 [==============================] - 3s 110us/sample - loss: 0.0049 - accuracy: 0.9986 - val_loss: 0.0271 - val_accuracy: 0.9945\n",
      "Epoch 22/100\n",
      "26742/26742 [==============================] - 3s 110us/sample - loss: 0.0025 - accuracy: 0.9993 - val_loss: 0.0237 - val_accuracy: 0.9951\n",
      "Epoch 23/100\n",
      "26742/26742 [==============================] - 3s 109us/sample - loss: 0.0070 - accuracy: 0.9976 - val_loss: 0.0240 - val_accuracy: 0.9943\n",
      "Epoch 24/100\n",
      "26742/26742 [==============================] - 3s 110us/sample - loss: 0.0316 - accuracy: 0.9917 - val_loss: 0.0583 - val_accuracy: 0.9877\n",
      "Epoch 25/100\n",
      "26742/26742 [==============================] - 3s 111us/sample - loss: 0.0176 - accuracy: 0.9953 - val_loss: 0.0258 - val_accuracy: 0.9954\n",
      "Epoch 26/100\n",
      "26742/26742 [==============================] - 3s 109us/sample - loss: 0.0040 - accuracy: 0.9987 - val_loss: 0.0142 - val_accuracy: 0.9972\n",
      "Epoch 27/100\n",
      "26742/26742 [==============================] - 3s 110us/sample - loss: 0.0018 - accuracy: 0.9996 - val_loss: 0.0125 - val_accuracy: 0.9979\n",
      "Epoch 28/100\n",
      "26742/26742 [==============================] - 3s 110us/sample - loss: 0.0017 - accuracy: 0.9996 - val_loss: 0.0125 - val_accuracy: 0.9978\n",
      "Epoch 29/100\n",
      "26742/26742 [==============================] - 3s 110us/sample - loss: 0.0017 - accuracy: 0.9996 - val_loss: 0.0128 - val_accuracy: 0.9978\n",
      "Epoch 30/100\n",
      "26742/26742 [==============================] - 3s 110us/sample - loss: 0.0016 - accuracy: 0.9996 - val_loss: 0.0128 - val_accuracy: 0.9978\n",
      "Epoch 31/100\n",
      "26742/26742 [==============================] - 3s 110us/sample - loss: 0.0017 - accuracy: 0.9996 - val_loss: 0.0131 - val_accuracy: 0.9976\n",
      "Epoch 32/100\n",
      "26742/26742 [==============================] - 3s 110us/sample - loss: 0.0017 - accuracy: 0.9996 - val_loss: 0.0131 - val_accuracy: 0.9976\n",
      "Epoch 33/100\n",
      "26742/26742 [==============================] - 3s 111us/sample - loss: 0.0017 - accuracy: 0.9996 - val_loss: 0.0134 - val_accuracy: 0.9975\n",
      "Epoch 34/100\n",
      "26742/26742 [==============================] - 3s 110us/sample - loss: 0.0016 - accuracy: 0.9996 - val_loss: 0.0134 - val_accuracy: 0.9974\n",
      "Epoch 35/100\n",
      "26742/26742 [==============================] - 3s 110us/sample - loss: 0.0017 - accuracy: 0.9996 - val_loss: 0.0134 - val_accuracy: 0.9973\n",
      "Epoch 36/100\n",
      "26742/26742 [==============================] - 3s 110us/sample - loss: 0.0017 - accuracy: 0.9996 - val_loss: 0.0135 - val_accuracy: 0.9973\n",
      "Epoch 37/100\n",
      "26742/26742 [==============================] - 3s 111us/sample - loss: 0.0016 - accuracy: 0.9996 - val_loss: 0.0134 - val_accuracy: 0.9973\n",
      "Epoch 38/100\n",
      "26742/26742 [==============================] - 3s 110us/sample - loss: 0.0017 - accuracy: 0.9996 - val_loss: 0.0134 - val_accuracy: 0.9973\n",
      "Epoch 39/100\n",
      "26742/26742 [==============================] - 3s 111us/sample - loss: 0.0017 - accuracy: 0.9996 - val_loss: 0.0133 - val_accuracy: 0.9973\n",
      "Epoch 40/100\n",
      "26742/26742 [==============================] - 3s 110us/sample - loss: 0.0016 - accuracy: 0.9996 - val_loss: 0.0135 - val_accuracy: 0.9972\n",
      "Epoch 41/100\n",
      "26742/26742 [==============================] - 3s 110us/sample - loss: 0.0017 - accuracy: 0.9996 - val_loss: 0.0136 - val_accuracy: 0.9972\n",
      "Epoch 42/100\n",
      "26742/26742 [==============================] - 3s 110us/sample - loss: 0.0017 - accuracy: 0.9996 - val_loss: 0.0137 - val_accuracy: 0.9972\n",
      "Epoch 43/100\n",
      "26742/26742 [==============================] - 3s 110us/sample - loss: 0.0016 - accuracy: 0.9996 - val_loss: 0.0136 - val_accuracy: 0.9973\n",
      "Epoch 44/100\n",
      "26742/26742 [==============================] - 3s 110us/sample - loss: 0.0016 - accuracy: 0.9996 - val_loss: 0.0138 - val_accuracy: 0.9972\n",
      "Epoch 45/100\n",
      "26742/26742 [==============================] - 3s 111us/sample - loss: 0.0017 - accuracy: 0.9996 - val_loss: 0.0138 - val_accuracy: 0.9973\n",
      "Epoch 46/100\n",
      "26742/26742 [==============================] - 3s 111us/sample - loss: 0.0016 - accuracy: 0.9996 - val_loss: 0.0140 - val_accuracy: 0.9973\n",
      "Epoch 47/100\n",
      "26742/26742 [==============================] - 3s 110us/sample - loss: 0.0016 - accuracy: 0.9996 - val_loss: 0.0138 - val_accuracy: 0.9973\n",
      "Epoch 48/100\n",
      "26742/26742 [==============================] - 3s 111us/sample - loss: 0.0017 - accuracy: 0.9996 - val_loss: 0.0140 - val_accuracy: 0.9974\n",
      "Epoch 49/100\n",
      "26742/26742 [==============================] - 3s 111us/sample - loss: 0.0017 - accuracy: 0.9996 - val_loss: 0.0139 - val_accuracy: 0.9972\n",
      "Epoch 50/100\n",
      "26742/26742 [==============================] - 3s 111us/sample - loss: 0.0016 - accuracy: 0.9996 - val_loss: 0.0142 - val_accuracy: 0.9972\n",
      "Epoch 51/100\n",
      "26742/26742 [==============================] - 3s 111us/sample - loss: 0.0016 - accuracy: 0.9996 - val_loss: 0.0139 - val_accuracy: 0.9973\n",
      "Epoch 52/100\n",
      "26742/26742 [==============================] - 3s 112us/sample - loss: 0.0017 - accuracy: 0.9996 - val_loss: 0.0139 - val_accuracy: 0.9973\n",
      "Epoch 53/100\n",
      "26742/26742 [==============================] - 3s 112us/sample - loss: 0.0016 - accuracy: 0.9996 - val_loss: 0.0141 - val_accuracy: 0.9972\n",
      "Epoch 54/100\n"
     ]
    },
    {
     "name": "stdout",
     "output_type": "stream",
     "text": [
      "26742/26742 [==============================] - 3s 112us/sample - loss: 0.0016 - accuracy: 0.9996 - val_loss: 0.0138 - val_accuracy: 0.9973\n",
      "Epoch 55/100\n",
      "26742/26742 [==============================] - 3s 112us/sample - loss: 0.0016 - accuracy: 0.9996 - val_loss: 0.0140 - val_accuracy: 0.9972\n",
      "Epoch 56/100\n",
      "26742/26742 [==============================] - 3s 112us/sample - loss: 0.0016 - accuracy: 0.9996 - val_loss: 0.0140 - val_accuracy: 0.9974\n",
      "Epoch 57/100\n",
      "26742/26742 [==============================] - 3s 112us/sample - loss: 0.0017 - accuracy: 0.9996 - val_loss: 0.0137 - val_accuracy: 0.9973\n",
      "Epoch 58/100\n",
      "26742/26742 [==============================] - 3s 112us/sample - loss: 0.0017 - accuracy: 0.9996 - val_loss: 0.0138 - val_accuracy: 0.9974\n",
      "Epoch 59/100\n",
      "26742/26742 [==============================] - 3s 112us/sample - loss: 0.0016 - accuracy: 0.9996 - val_loss: 0.0138 - val_accuracy: 0.9973\n",
      "Epoch 60/100\n",
      "26742/26742 [==============================] - 3s 113us/sample - loss: 0.0016 - accuracy: 0.9996 - val_loss: 0.0138 - val_accuracy: 0.9976\n",
      "Epoch 61/100\n",
      "26742/26742 [==============================] - 3s 112us/sample - loss: 0.0017 - accuracy: 0.9996 - val_loss: 0.0137 - val_accuracy: 0.9976\n",
      "Epoch 62/100\n",
      "26742/26742 [==============================] - 3s 112us/sample - loss: 0.0016 - accuracy: 0.9996 - val_loss: 0.0135 - val_accuracy: 0.9975\n",
      "Epoch 63/100\n",
      "26742/26742 [==============================] - 3s 112us/sample - loss: 0.0016 - accuracy: 0.9996 - val_loss: 0.0138 - val_accuracy: 0.9978\n",
      "Epoch 64/100\n",
      "26742/26742 [==============================] - 3s 112us/sample - loss: 0.0016 - accuracy: 0.9996 - val_loss: 0.0135 - val_accuracy: 0.9978\n",
      "Epoch 65/100\n",
      "26742/26742 [==============================] - 3s 112us/sample - loss: 0.0016 - accuracy: 0.9996 - val_loss: 0.0136 - val_accuracy: 0.9978\n",
      "Epoch 66/100\n",
      "26742/26742 [==============================] - 3s 113us/sample - loss: 0.0017 - accuracy: 0.9996 - val_loss: 0.0133 - val_accuracy: 0.9976\n",
      "Epoch 67/100\n",
      "26742/26742 [==============================] - 3s 112us/sample - loss: 0.0016 - accuracy: 0.9996 - val_loss: 0.0135 - val_accuracy: 0.9976\n",
      "Epoch 68/100\n",
      "26742/26742 [==============================] - 3s 112us/sample - loss: 0.0017 - accuracy: 0.9996 - val_loss: 0.0138 - val_accuracy: 0.9978\n",
      "Epoch 69/100\n",
      "26742/26742 [==============================] - 3s 112us/sample - loss: 0.0017 - accuracy: 0.9996 - val_loss: 0.0136 - val_accuracy: 0.9978\n",
      "Epoch 70/100\n",
      "26742/26742 [==============================] - 3s 113us/sample - loss: 0.0016 - accuracy: 0.9996 - val_loss: 0.0133 - val_accuracy: 0.9979\n",
      "Epoch 71/100\n",
      "26742/26742 [==============================] - 3s 112us/sample - loss: 0.0016 - accuracy: 0.9996 - val_loss: 0.0132 - val_accuracy: 0.9978\n",
      "Epoch 72/100\n",
      "26742/26742 [==============================] - 3s 112us/sample - loss: 0.0016 - accuracy: 0.9996 - val_loss: 0.0132 - val_accuracy: 0.9979\n",
      "Epoch 73/100\n",
      "26742/26742 [==============================] - 3s 111us/sample - loss: 0.0016 - accuracy: 0.9996 - val_loss: 0.0131 - val_accuracy: 0.9979\n",
      "Epoch 74/100\n",
      "26742/26742 [==============================] - 3s 113us/sample - loss: 0.0016 - accuracy: 0.9996 - val_loss: 0.0131 - val_accuracy: 0.9976\n",
      "Epoch 75/100\n",
      "26742/26742 [==============================] - 3s 112us/sample - loss: 0.0016 - accuracy: 0.9996 - val_loss: 0.0132 - val_accuracy: 0.9978\n",
      "Epoch 76/100\n",
      "26742/26742 [==============================] - 3s 112us/sample - loss: 0.0016 - accuracy: 0.9996 - val_loss: 0.0130 - val_accuracy: 0.9978\n",
      "Epoch 77/100\n",
      "26742/26742 [==============================] - 3s 113us/sample - loss: 0.0016 - accuracy: 0.9996 - val_loss: 0.0129 - val_accuracy: 0.9978\n",
      "Epoch 78/100\n",
      "26742/26742 [==============================] - 3s 113us/sample - loss: 0.0016 - accuracy: 0.9996 - val_loss: 0.0128 - val_accuracy: 0.9978\n",
      "Epoch 79/100\n",
      "26742/26742 [==============================] - 3s 112us/sample - loss: 0.0016 - accuracy: 0.9996 - val_loss: 0.0128 - val_accuracy: 0.9978\n",
      "Epoch 80/100\n",
      "26742/26742 [==============================] - 3s 112us/sample - loss: 0.0016 - accuracy: 0.9996 - val_loss: 0.0129 - val_accuracy: 0.9978\n",
      "Epoch 81/100\n",
      "26742/26742 [==============================] - 3s 113us/sample - loss: 0.0016 - accuracy: 0.9996 - val_loss: 0.0129 - val_accuracy: 0.9978\n",
      "Epoch 82/100\n",
      "26742/26742 [==============================] - 3s 112us/sample - loss: 0.0016 - accuracy: 0.9996 - val_loss: 0.0128 - val_accuracy: 0.9978\n",
      "Epoch 83/100\n",
      "26742/26742 [==============================] - 3s 113us/sample - loss: 0.0016 - accuracy: 0.9996 - val_loss: 0.0128 - val_accuracy: 0.9978\n",
      "Epoch 84/100\n",
      "26742/26742 [==============================] - 3s 112us/sample - loss: 0.0016 - accuracy: 0.9996 - val_loss: 0.0128 - val_accuracy: 0.9978\n",
      "Epoch 85/100\n",
      "26742/26742 [==============================] - 3s 112us/sample - loss: 0.0016 - accuracy: 0.9996 - val_loss: 0.0126 - val_accuracy: 0.9978\n",
      "Epoch 86/100\n",
      "26742/26742 [==============================] - 3s 113us/sample - loss: 0.0016 - accuracy: 0.9996 - val_loss: 0.0128 - val_accuracy: 0.9978\n",
      "Epoch 87/100\n",
      "26742/26742 [==============================] - 3s 112us/sample - loss: 0.0016 - accuracy: 0.9996 - val_loss: 0.0124 - val_accuracy: 0.9979\n",
      "Epoch 88/100\n",
      "26742/26742 [==============================] - 3s 113us/sample - loss: 0.0016 - accuracy: 0.9996 - val_loss: 0.0124 - val_accuracy: 0.9978\n",
      "Epoch 89/100\n",
      "26742/26742 [==============================] - 3s 112us/sample - loss: 0.0016 - accuracy: 0.9996 - val_loss: 0.0123 - val_accuracy: 0.9979\n",
      "Epoch 90/100\n",
      "26742/26742 [==============================] - 3s 113us/sample - loss: 0.0016 - accuracy: 0.9996 - val_loss: 0.0124 - val_accuracy: 0.9979\n",
      "Epoch 91/100\n",
      "26742/26742 [==============================] - 3s 112us/sample - loss: 0.0016 - accuracy: 0.9996 - val_loss: 0.0125 - val_accuracy: 0.9980\n",
      "Epoch 92/100\n",
      "26742/26742 [==============================] - 3s 112us/sample - loss: 0.0016 - accuracy: 0.9996 - val_loss: 0.0125 - val_accuracy: 0.9980\n",
      "Epoch 93/100\n",
      "26742/26742 [==============================] - 3s 113us/sample - loss: 0.0016 - accuracy: 0.9996 - val_loss: 0.0123 - val_accuracy: 0.9980\n",
      "Epoch 94/100\n",
      "26742/26742 [==============================] - 3s 113us/sample - loss: 0.0016 - accuracy: 0.9996 - val_loss: 0.0122 - val_accuracy: 0.9980\n",
      "Epoch 95/100\n",
      "26742/26742 [==============================] - 3s 112us/sample - loss: 0.0016 - accuracy: 0.9996 - val_loss: 0.0121 - val_accuracy: 0.9980\n",
      "Epoch 96/100\n",
      "26742/26742 [==============================] - 3s 113us/sample - loss: 0.0016 - accuracy: 0.9996 - val_loss: 0.0121 - val_accuracy: 0.9980\n",
      "Epoch 97/100\n",
      "26742/26742 [==============================] - 3s 113us/sample - loss: 0.0016 - accuracy: 0.9996 - val_loss: 0.0122 - val_accuracy: 0.9980\n",
      "Epoch 98/100\n",
      "26742/26742 [==============================] - 3s 113us/sample - loss: 0.0016 - accuracy: 0.9996 - val_loss: 0.0124 - val_accuracy: 0.9982\n",
      "Epoch 99/100\n",
      "26742/26742 [==============================] - 3s 113us/sample - loss: 0.0016 - accuracy: 0.9996 - val_loss: 0.0121 - val_accuracy: 0.9980\n",
      "Epoch 100/100\n",
      "26742/26742 [==============================] - 3s 112us/sample - loss: 0.0016 - accuracy: 0.9996 - val_loss: 0.0121 - val_accuracy: 0.9980\n"
     ]
    }
   ],
   "source": [
    "# === Train the Model to Our Data for 25 Epochs === #\n",
    "conv_hist = conv_model.fit( X_train,\n",
    "                            y_train,\n",
    "                            batch_size=128,\n",
    "                            epochs=100,\n",
    "                            validation_data=( X_test , y_test ) )\n",
    "\n",
    "# === Extract History Values for Later Plotting === #\n",
    "conv_hist_dict = conv_hist.history"
   ]
  },
  {
   "cell_type": "code",
   "execution_count": 20,
   "metadata": {},
   "outputs": [
    {
     "data": {
      "image/png": "[encoded data removed]",
      "text/plain": [
       "<Figure size 432x288 with 1 Axes>"
      ]
     },
     "metadata": {
      "needs_background": "light"
     },
     "output_type": "display_data"
    }
   ],
   "source": [
    "# === Plot the Data === #\n",
    "plt.plot( conv_hist_dict['accuracy']     , label='Training Accuracy' )\n",
    "plt.plot( conv_hist_dict['val_accuracy'] , label='Testing Accuracy'  )\n",
    "\n",
    "# === Label the Chart === #\n",
    "plt.xlabel( 'Epoch' )\n",
    "plt.ylabel( 'Accuracy' )\n",
    "plt.title( 'Accuracy During Training' )\n",
    "plt.legend( )\n",
    "\n",
    "# === Display the Chart === #\n",
    "plt.show( )"
   ]
  },
  {
   "cell_type": "code",
   "execution_count": 21,
   "metadata": {},
   "outputs": [],
   "source": [
    "tf.keras.models.save_model(\n",
    "    conv_model,\n",
    "    'model_v3.h5',\n",
    "    overwrite=True,\n",
    "    include_optimizer=True,\n",
    "    save_format=None,\n",
    "    signatures=None,\n",
    "    options=None\n",
    ")"
   ]
  },
  {
   "cell_type": "code",
   "execution_count": 22,
   "metadata": {},
   "outputs": [
    {
     "data": {
      "image/png": "[encoded data removed]",
      "text/plain": [
       "<Figure size 432x288 with 1 Axes>"
      ]
     },
     "metadata": {
      "needs_background": "light"
     },
     "output_type": "display_data"
    },
    {
     "data": {
      "text/plain": [
       "(1, 64, 80, 1)"
      ]
     },
     "execution_count": 22,
     "metadata": {},
     "output_type": "execute_result"
    }
   ],
   "source": [
    "#conv_model.predict(X_test[0].reshape(X_test[0].shape[0], X_test[0].shape[1], X_test[0].shape[2],1))\n",
    "\n",
    "test_idx = 420\n",
    "weights = conv_model.predict(X_test[test_idx].reshape(1,X_test[test_idx].shape[0], X_test[test_idx].shape[1], X_test[0].shape[2]))\n",
    "classification = classes[np.argmax(weights)]\n",
    "plt.figure()\n",
    "plt.imshow(X_test[test_idx].reshape(X_test[test_idx].shape[0], X_test[test_idx].shape[1]),cmap='gray')\n",
    "plt.title(classification)\n",
    "plt.show()\n",
    "\n",
    "X_test[test_idx].reshape(1,X_test[test_idx].shape[0], X_test[test_idx].shape[1], X_test[0].shape[2]).shape"
   ]
  },
  {
   "cell_type": "code",
   "execution_count": 23,
   "metadata": {},
   "outputs": [
    {
     "name": "stdout",
     "output_type": "stream",
     "text": [
      "Number of Training Items: 26742\n",
      "Number of Testing Items:  8915\n",
      "Full Dataset Contained 35657 Frames\n"
     ]
    }
   ],
   "source": [
    "print('Number of Training Items: {}'.format(len(y_train)))\n",
    "print('Number of Testing Items:  {}'.format(len(y_test)))\n",
    "print('Full Dataset Contained {} Frames'.format(len(arr)))"
   ]
  },
  {
   "cell_type": "code",
   "execution_count": null,
   "metadata": {},
   "outputs": [],
   "source": []
  }
 ],
 "metadata": {
  "kernelspec": {
   "display_name": "Python 3",
   "language": "python",
   "name": "python3"
  },
  "language_info": {
   "codemirror_mode": {
    "name": "ipython",
    "version": 3
   },
   "file_extension": ".py",
   "mimetype": "text/x-python",
   "name": "python",
   "nbconvert_exporter": "python",
   "pygments_lexer": "ipython3",
   "version": "3.7.7"
  }
 },
 "nbformat": 4,
 "nbformat_minor": 4
}
