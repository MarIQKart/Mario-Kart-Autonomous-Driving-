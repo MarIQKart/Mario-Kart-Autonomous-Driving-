{
 "cells": [
  {
   "cell_type": "markdown",
   "metadata": {},
   "source": [
    "# Construct Frame Classifier\n",
    "\n",
    "This notebook contains all the necessary code for reading in the image frame data, processing the dataset, using it to train the CNN classifier, plotting the training history, and saving the model. Each individual cell has it's own sequential purpose in this process, and is documented for understanding."
   ]
  },
  {
   "cell_type": "markdown",
   "metadata": {},
   "source": [
    "### All the Necessary Imports Needed\n",
    "\n",
    "* **`os`**: Used for navigating filesystem and collecting the list of file names for dataset processing\n",
    "* **`matplotlib.pyplot`**: used for plotting the training history for the CNN model\n",
    "* **`PIL.Image`**: used for reading the image data, converting to grayscale, and resizing the image\n",
    "* **`pandas`**: used for tabular data representation (depricated)\n",
    "* **`numpy`**: used for matrix operations and mathematical transformations to dataset such as normalization.\n",
    "* **`tensorflow`**: the GPU version of tensorflow was used. Untested for CPU version.\n",
    "* **`tensorflow.keras`**: keras used for management and structure of the neural network\n",
    "* **`sklearn.model_selection.train_test_split`**: used for partitioning the dataset into train and test sets for evaluating the training and final performance of the model."
   ]
  },
  {
   "cell_type": "code",
   "execution_count": 1,
   "metadata": {},
   "outputs": [],
   "source": [
    "# === Necessary Imports === #\n",
    "import os\n",
    "import matplotlib.pyplot as plt\n",
    "from PIL import Image\n",
    "import pandas as pd  # depricated\n",
    "import numpy as np\n",
    "import tensorflow as tf\n",
    "from tensorflow import keras\n",
    "from sklearn.model_selection import train_test_split\n",
    "\n",
    "# === Configure GPU (Can Result in \"Unknown Error\" if Not Done) === #\n",
    "gpus = tf.config.experimental.list_physical_devices( 'GPU' )\n",
    "tf.config.experimental.set_memory_growth( gpus[0] , True )"
   ]
  },
  {
   "cell_type": "markdown",
   "metadata": {},
   "source": [
    "### Extract a List of Data Directories\n",
    "\n",
    "This will produce a list of all folders within the `dataset` directory. Note: it is expected that there is no other files besides the data subdirectories. We Expect that the name of each subdirectory is the name of the class that its contents represent."
   ]
  },
  {
   "cell_type": "code",
   "execution_count": 2,
   "metadata": {},
   "outputs": [
    {
     "data": {
      "text/plain": [
       "['center',\n",
       " 'near_left',\n",
       " 'near_right',\n",
       " 'off_left',\n",
       " 'off_right',\n",
       " 'tunnel_left',\n",
       " 'tunnel_right',\n",
       " 'wall_left',\n",
       " 'wall_right']"
      ]
     },
     "execution_count": 2,
     "metadata": {},
     "output_type": "execute_result"
    }
   ],
   "source": [
    "# === List Directory Contents and Cast to Python List === #\n",
    "directory_list = [ d for d in os.listdir( 'dataset' ) ]\n",
    "directory_list"
   ]
  },
  {
   "cell_type": "markdown",
   "metadata": {},
   "source": [
    "### Use Directory List to Produce List of All Data Files\n",
    "\n",
    "Now we will iterate over the the directory list constructed in the previous cell. For each, we will again utilize the `os` package to list the contents of that subdirectory. We cast that result to a list, and append the contents of that list to the main file list, which will contain the list of all data image file names after this cell finishes running. "
   ]
  },
  {
   "cell_type": "code",
   "execution_count": 3,
   "metadata": {},
   "outputs": [
    {
     "data": {
      "text/plain": [
       "['dataset/center/frame0.jpg',\n",
       " 'dataset/center/frame1.jpg',\n",
       " 'dataset/center/frame10.jpg',\n",
       " 'dataset/center/frame100.jpg',\n",
       " 'dataset/center/frame1000.jpg',\n",
       " 'dataset/center/frame1001.jpg',\n",
       " 'dataset/center/frame1002.jpg',\n",
       " 'dataset/center/frame1003.jpg',\n",
       " 'dataset/center/frame1004.jpg',\n",
       " 'dataset/center/frame1005.jpg']"
      ]
     },
     "execution_count": 3,
     "metadata": {},
     "output_type": "execute_result"
    }
   ],
   "source": [
    "# === Initialize Empty List === #\n",
    "file_list = list( )\n",
    "\n",
    "# === Iterate Subdirectories and Append their Files to the List === #\n",
    "for d in directory_list:\n",
    "    files      = [ 'dataset/{}/{}'.format( d , f ) for f in os.listdir( 'dataset/{}'.format( d ) ) ]\n",
    "    file_list += files\n",
    "    \n",
    "# === Show Success by Printing First 10 === #\n",
    "file_list[:10]"
   ]
  },
  {
   "cell_type": "markdown",
   "metadata": {},
   "source": [
    "### Extract Image Shape and Desired Resize Shape\n",
    "\n",
    "In this cell, we temporarily open the first image in the dataset, extract the shape of that image, and resize it according to our desired resize_scale. We set the scale to 10, so we expect the resized images to be 1/10th the original size (rounded down to the nearest pixel)."
   ]
  },
  {
   "cell_type": "code",
   "execution_count": 4,
   "metadata": {},
   "outputs": [
    {
     "name": "stdout",
     "output_type": "stream",
     "text": [
      "Original Shape = 640 x 802 => 513280 Pixels\n",
      "Resized Shape = 64 x 80 => 5120 Pixels\n"
     ]
    }
   ],
   "source": [
    "# === Extract Original Dimensions === #\n",
    "H , W = np.shape( Image.open( file_list[0] ).convert( 'L' ) )\n",
    "\n",
    "# === Resize the Dimensions Appropriately === #\n",
    "resize_scale = 10\n",
    "H2 , W2      = H//resize_scale , W//resize_scale\n",
    "\n",
    "# === Logging: Print Original and Resized Dimensions === #\n",
    "print( 'Original Shape = %d x %d => %d Pixels' % ( H , W , H*W ) )\n",
    "print( 'Resized Shape = %d x %d => %d Pixels' % ( H2 , W2 , H2*W2 ) )"
   ]
  },
  {
   "cell_type": "markdown",
   "metadata": {},
   "source": [
    "### Reading the Dataset into Memory\n",
    "\n",
    "This process can take a while, since we transform the dataset as we read it, and the original dataset is a few gigabytes in size. We first define a dictionary used to encode/decode the class names to class numbers. There are ~35,000 images, each originally 640x802 pixels. Each image is processed as it is read. On my machine personally, this process may take a couple minutes, but it does not exceed or approach memory limits.\n",
    "\n",
    "Next, we construct a numpy array of the expected dimensions to fit the entire dataset. We do this in order to reduce the runtime cost of resizing a numpy array for each data read. Since we know what the dimensions of each image will be (`H2` height and `W2` width), and we know how many images we will be reading (length of `file_list`), since we will be using grayscale, we know exactly how many pixels to use per file and how many files total. This lets us construct the appropriately sized numpy array before reading anything into memory.\n",
    "\n",
    "Then for each image file in the file list, we open the file, convert to grayscale, transform into the appropriate size, cast to a numpy array, and store in the next available index of our data array we have been populating."
   ]
  },
  {
   "cell_type": "code",
   "execution_count": 5,
   "metadata": {},
   "outputs": [
    {
     "name": "stdout",
     "output_type": "stream",
     "text": [
      "Loading Images...\n",
      "Image 1782/35657 Loaded...\n",
      "Image 3564/35657 Loaded...\n",
      "Image 5346/35657 Loaded...\n",
      "Image 7128/35657 Loaded...\n",
      "Image 8910/35657 Loaded...\n",
      "Image 10692/35657 Loaded...\n",
      "Image 12474/35657 Loaded...\n",
      "Image 14256/35657 Loaded...\n",
      "Image 16038/35657 Loaded...\n",
      "Image 17820/35657 Loaded...\n",
      "Image 19602/35657 Loaded...\n",
      "Image 21384/35657 Loaded...\n",
      "Image 23166/35657 Loaded...\n",
      "Image 24948/35657 Loaded...\n",
      "Image 26730/35657 Loaded...\n",
      "Image 28512/35657 Loaded...\n",
      "Image 30294/35657 Loaded...\n",
      "Image 32076/35657 Loaded...\n",
      "Image 33858/35657 Loaded...\n",
      "Image 35640/35657 Loaded...\n",
      "Done\n"
     ]
    }
   ],
   "source": [
    "# === Data Class Encoder/Decoder === #\n",
    "classes = {\n",
    "    # Class Number to Class Name Decoder\n",
    "    0:'center',\n",
    "    1:'near_left',\n",
    "    2:'near_right',\n",
    "    3:'off_left',\n",
    "    4:'off_right',\n",
    "    5:'wall_left',\n",
    "    6:'wall_right',\n",
    "    7:'tunnel_left',\n",
    "    8:'tunnel_right',\n",
    "    # Class Name to Class Number Encoder\n",
    "    'center':0,\n",
    "    'near_left':1,\n",
    "    'near_right':2,\n",
    "    'off_left':3,\n",
    "    'off_right':4,\n",
    "    'wall_left':5,\n",
    "    'wall_right':6,\n",
    "    'tunnel_left':7,\n",
    "    'tunnel_right':8\n",
    "}\n",
    "\n",
    "# === Construct Empty Array of Appropriate Dimensions === #\n",
    "n_images = len( file_list )\n",
    "arr      = np.zeros( ( n_images , H2 , W2 ) )\n",
    "labels   = list( )\n",
    "\n",
    "# === Iterate Files and Load Appropriately Transformed Image into Memory === #\n",
    "print( 'Loading Images...' )\n",
    "for i in range( n_images ):\n",
    "    \n",
    "    # === Open, Convert to Grayscale, and Resize === #\n",
    "    im = Image.open( file_list[i] ).convert( 'L' ).resize( ( W2 , H2 ) )\n",
    "    \n",
    "    # === Store Image Data and Class Label === #\n",
    "    arr[i,:] = np.asarray( im )\n",
    "    labels.append( classes[ file_list[i].split( '/' )[1] ] )\n",
    "    \n",
    "    # === Logging Purposes: Only Print for 1/20th of Images Processed === #\n",
    "    if ( i + 1 ) % ( n_images//20 ) == 0:\n",
    "        print( 'Image {}/{} Loaded...'.format( i + 1 , n_images ) )\n",
    "        \n",
    "# === Cast Labels List to Numpiy Array for Consistency === #\n",
    "labels = np.array( labels )\n",
    "\n",
    "# === Report Completion === #\n",
    "print( 'Done' )"
   ]
  },
  {
   "cell_type": "markdown",
   "metadata": {},
   "source": [
    "### Train-Test Split\n",
    "\n",
    "Using the function imported from `sklearn.model_selection`, we will partition our dataset into four numpy arrays. The image data used for training, the image data used for testing, and their corresponding labels for each. \n",
    "\n",
    "Additionally, we will reshape the training and testing partitions to more appropriately fit the necessary shape for the CNN model in the next few cells. Specifically, adding a fourth dimension (1st = specific image, 2nd = pixel y location, 3rd = pixel x location). The new dimension will be of length 1, and has no impact on the structural integrity of the image data itself."
   ]
  },
  {
   "cell_type": "code",
   "execution_count": 6,
   "metadata": {},
   "outputs": [],
   "source": [
    "# === Partition Dataset === #\n",
    "X_train , X_test , y_train , y_test = train_test_split( arr , labels )\n",
    "\n",
    "# === Add Extra Empty Dimension === #\n",
    "X_train = X_train.reshape( X_train.shape[0] , X_train.shape[1] , X_train.shape[2] , 1 )\n",
    "X_test  = X_test.reshape( X_test.shape[0] , X_test.shape[1] , X_test.shape[2] , 1 )"
   ]
  },
  {
   "cell_type": "markdown",
   "metadata": {},
   "source": [
    "### CNN Input Layer\n",
    "\n",
    "Construct the input layer for our model. The shape should be the dimensions of the image, as well as a dimension of 1."
   ]
  },
  {
   "cell_type": "code",
   "execution_count": 7,
   "metadata": {},
   "outputs": [
    {
     "name": "stdout",
     "output_type": "stream",
     "text": [
      "Tensor(\"conv_input:0\", shape=(None, 64, 80, 1), dtype=float32)\n"
     ]
    }
   ],
   "source": [
    "# === Construct the Input Layer === #\n",
    "conv_input_size  = ( arr[0].shape[0] , arr[0].shape[1] , 1 )\n",
    "conv_input_layer = keras.Input( conv_input_size , name=\"conv_input\" )   # create input layer\n",
    "\n",
    "# === Print Layer Information to Show Success === #\n",
    "print( conv_input_layer )"
   ]
  },
  {
   "cell_type": "markdown",
   "metadata": {},
   "source": [
    "### Construct Hidden and Output Layers\n",
    "\n",
    "The hidden layers of the CNN are constructed together within this cell. The output layer is also constructed. For the output layer, we produce a mapping to the \"certainty\" levels for each class that the model was trained on. "
   ]
  },
  {
   "cell_type": "code",
   "execution_count": 8,
   "metadata": {},
   "outputs": [],
   "source": [
    "# === 3x3 Convolution Layer/Filter === #\n",
    "# Output shape = 32\n",
    "# Kernel size  = 3x3 (3x3 filter)\n",
    "# Activation   = relu (ReLu activation function)\n",
    "conv_layer_1 = keras.layers.Conv2D( 32, \n",
    "                                    kernel_size=( 3 , 3 ), \n",
    "                                    activation=\"relu\",\n",
    "                                    name=\"conv_layer_1\" )\n",
    "\n",
    "# === Maxpool Layer to Reduce Dimensionality === #\n",
    "# Pool Size = 2x2 \n",
    "maxpool_1 = keras.layers.MaxPooling2D( pool_size=( 2 , 2 ),\n",
    "                                       name=\"maxpool_1\" )\n",
    "\n",
    "# === 3x3 Convolutional Layer/Filter === #\n",
    "# Output Shape = 64\n",
    "# Kernel size  = 3x3 (3x3 filter)\n",
    "# Activation   = relu (ReLu activation function)\n",
    "conv_layer_2 = keras.layers.Conv2D( 64, \n",
    "                                    kernel_size=( 3 , 3 ), \n",
    "                                    activation=\"relu\",\n",
    "                                    name=\"conv_layer_2\" )\n",
    "\n",
    "# === Final Maxpool Layer to Reduce Dimensionality Once More === #\n",
    "# Pool Size = 2x2\n",
    "maxpool_2 = keras.layers.MaxPooling2D( pool_size=( 2 , 2 ),\n",
    "                                       name=\"maxpool_2\" )\n",
    "\n",
    "# === Flatten the Layers (I'm guessing to flatten for the \"dense\" output layer) === #\n",
    "flatten = keras.layers.Flatten( )\n",
    "\n",
    "# === Add a Dense Output Layer to Map the Above to one of 9 classes === #\n",
    "conv_class_layer = keras.layers.Dense( 9 , activation=\"softmax\" )"
   ]
  },
  {
   "cell_type": "markdown",
   "metadata": {},
   "source": [
    "### Create List of CNN Layers\n",
    "\n",
    "This list allows us to better visualize the structure of the NN model, as well as be used for input into the keras model to construct the NN from the given layers."
   ]
  },
  {
   "cell_type": "code",
   "execution_count": 9,
   "metadata": {},
   "outputs": [],
   "source": [
    "# === List of the Layers Made in the Last Cell === #\n",
    "conv_layers = [conv_input_layer,\n",
    "               conv_layer_1,\n",
    "               maxpool_1,\n",
    "               conv_layer_2,\n",
    "               maxpool_2,\n",
    "               flatten,\n",
    "               conv_class_layer]"
   ]
  },
  {
   "cell_type": "markdown",
   "metadata": {},
   "source": [
    "### Construct the Model\n",
    "\n",
    "Using our constructed layers from the previous cells above, we will construct a Keras model of our desired structure. To show that the model structure was created correctly, we will print the results of Keras's built-in summary function for our model."
   ]
  },
  {
   "cell_type": "code",
   "execution_count": 10,
   "metadata": {},
   "outputs": [
    {
     "name": "stdout",
     "output_type": "stream",
     "text": [
      "Model: \"sequential\"\n",
      "_________________________________________________________________\n",
      "Layer (type)                 Output Shape              Param #   \n",
      "=================================================================\n",
      "conv_layer_1 (Conv2D)        (None, 62, 78, 32)        320       \n",
      "_________________________________________________________________\n",
      "maxpool_1 (MaxPooling2D)     (None, 31, 39, 32)        0         \n",
      "_________________________________________________________________\n",
      "conv_layer_2 (Conv2D)        (None, 29, 37, 64)        18496     \n",
      "_________________________________________________________________\n",
      "maxpool_2 (MaxPooling2D)     (None, 14, 18, 64)        0         \n",
      "_________________________________________________________________\n",
      "flatten (Flatten)            (None, 16128)             0         \n",
      "_________________________________________________________________\n",
      "dense (Dense)                (None, 9)                 145161    \n",
      "=================================================================\n",
      "Total params: 163,977\n",
      "Trainable params: 163,977\n",
      "Non-trainable params: 0\n",
      "_________________________________________________________________\n"
     ]
    }
   ],
   "source": [
    "# === Construct and Summarize Keras Model We Defined === #\n",
    "conv_model = keras.Sequential( layers=conv_layers )\n",
    "conv_model.summary( )"
   ]
  },
  {
   "cell_type": "markdown",
   "metadata": {},
   "source": [
    "### Compile the Model\n",
    "\n",
    "Now that the model structure has been determined and constructed, we will compile the mdoel. For our purposes, we will use Sparse Categorical Crossentropy for our loss function, the adam optimizer, and Accuracy as our performance metric."
   ]
  },
  {
   "cell_type": "code",
   "execution_count": 11,
   "metadata": {},
   "outputs": [],
   "source": [
    "# === Compile the Model === #\n",
    "conv_model.compile( loss      = \"sparse_categorical_crossentropy\", \n",
    "                    optimizer = \"adam\", \n",
    "                    metrics   = [\"accuracy\"] )"
   ]
  },
  {
   "cell_type": "markdown",
   "metadata": {},
   "source": [
    "### Train the Model\n",
    "\n",
    "Using our training and testing datasets, constructed earlier, we will train our model. Since the machine being used is powerful enough to handle it with relative efficiency on a GPU, the model will be trained for 100 epochs using a batch size of 128. Trained on an NVIDIA RTX 2070, each epoch took slightly longer than 3 seconds. The entire training process took between 5 and 6 minutes. It is untested how performance compares with the CPU version of tensorflow, or performance on lower-power machines."
   ]
  },
  {
   "cell_type": "code",
   "execution_count": 12,
   "metadata": {},
   "outputs": [
    {
     "name": "stdout",
     "output_type": "stream",
     "text": [
      "Train on 26742 samples, validate on 8915 samples\n",
      "Epoch 1/100\n",
      "26742/26742 [==============================] - 6s 216us/sample - loss: 2.5521 - accuracy: 0.8498 - val_loss: 0.0947 - val_accuracy: 0.9703\n",
      "Epoch 2/100\n",
      "26742/26742 [==============================] - 3s 104us/sample - loss: 0.0621 - accuracy: 0.9792 - val_loss: 0.0623 - val_accuracy: 0.9799\n",
      "Epoch 3/100\n",
      "26742/26742 [==============================] - 3s 104us/sample - loss: 0.0311 - accuracy: 0.9898 - val_loss: 0.0437 - val_accuracy: 0.9853\n",
      "Epoch 4/100\n",
      "26742/26742 [==============================] - 3s 103us/sample - loss: 0.0172 - accuracy: 0.9948 - val_loss: 0.0406 - val_accuracy: 0.9880\n",
      "Epoch 5/100\n",
      "26742/26742 [==============================] - 3s 105us/sample - loss: 0.0122 - accuracy: 0.9966 - val_loss: 0.0308 - val_accuracy: 0.9920\n",
      "Epoch 6/100\n",
      "26742/26742 [==============================] - 3s 104us/sample - loss: 0.0102 - accuracy: 0.9969 - val_loss: 0.0289 - val_accuracy: 0.9917\n",
      "Epoch 7/100\n",
      "26742/26742 [==============================] - 3s 104us/sample - loss: 0.0069 - accuracy: 0.9982 - val_loss: 0.0235 - val_accuracy: 0.9939\n",
      "Epoch 8/100\n",
      "26742/26742 [==============================] - 3s 104us/sample - loss: 0.0032 - accuracy: 0.9994 - val_loss: 0.0197 - val_accuracy: 0.9947\n",
      "Epoch 9/100\n",
      "26742/26742 [==============================] - 3s 104us/sample - loss: 0.0024 - accuracy: 0.9994 - val_loss: 0.0187 - val_accuracy: 0.9952\n",
      "Epoch 10/100\n",
      "26742/26742 [==============================] - 3s 104us/sample - loss: 0.0022 - accuracy: 0.9994 - val_loss: 0.0184 - val_accuracy: 0.9944\n",
      "Epoch 11/100\n",
      "26742/26742 [==============================] - 3s 105us/sample - loss: 0.0020 - accuracy: 0.9996 - val_loss: 0.0187 - val_accuracy: 0.9951\n",
      "Epoch 12/100\n",
      "26742/26742 [==============================] - 3s 105us/sample - loss: 0.0018 - accuracy: 0.9996 - val_loss: 0.0203 - val_accuracy: 0.9950\n",
      "Epoch 13/100\n",
      "26742/26742 [==============================] - 3s 104us/sample - loss: 0.0020 - accuracy: 0.9996 - val_loss: 0.0185 - val_accuracy: 0.9950\n",
      "Epoch 14/100\n",
      "26742/26742 [==============================] - 3s 104us/sample - loss: 0.0018 - accuracy: 0.9996 - val_loss: 0.0184 - val_accuracy: 0.9948\n",
      "Epoch 15/100\n",
      "26742/26742 [==============================] - 3s 105us/sample - loss: 0.0019 - accuracy: 0.9996 - val_loss: 0.0185 - val_accuracy: 0.9947\n",
      "Epoch 16/100\n",
      "26742/26742 [==============================] - 3s 105us/sample - loss: 0.0018 - accuracy: 0.9996 - val_loss: 0.0187 - val_accuracy: 0.9950\n",
      "Epoch 17/100\n",
      "26742/26742 [==============================] - 3s 105us/sample - loss: 0.0018 - accuracy: 0.9996 - val_loss: 0.0187 - val_accuracy: 0.9953\n",
      "Epoch 18/100\n",
      "26742/26742 [==============================] - 3s 104us/sample - loss: 0.0018 - accuracy: 0.9996 - val_loss: 0.0191 - val_accuracy: 0.9952\n",
      "Epoch 19/100\n",
      "26742/26742 [==============================] - 3s 105us/sample - loss: 0.0018 - accuracy: 0.9996 - val_loss: 0.0189 - val_accuracy: 0.9950\n",
      "Epoch 20/100\n",
      "26742/26742 [==============================] - 3s 105us/sample - loss: 0.0018 - accuracy: 0.9996 - val_loss: 0.0196 - val_accuracy: 0.9952\n",
      "Epoch 21/100\n",
      "26742/26742 [==============================] - 3s 106us/sample - loss: 0.0018 - accuracy: 0.9996 - val_loss: 0.0185 - val_accuracy: 0.9954\n",
      "Epoch 22/100\n",
      "26742/26742 [==============================] - 3s 105us/sample - loss: 0.0018 - accuracy: 0.9996 - val_loss: 0.0185 - val_accuracy: 0.9953\n",
      "Epoch 23/100\n",
      "26742/26742 [==============================] - 3s 105us/sample - loss: 0.0018 - accuracy: 0.9996 - val_loss: 0.0184 - val_accuracy: 0.9952\n",
      "Epoch 24/100\n",
      "26742/26742 [==============================] - 3s 105us/sample - loss: 0.0018 - accuracy: 0.9996 - val_loss: 0.0188 - val_accuracy: 0.9952\n",
      "Epoch 25/100\n",
      "26742/26742 [==============================] - 3s 105us/sample - loss: 0.0018 - accuracy: 0.9996 - val_loss: 0.0191 - val_accuracy: 0.9954\n",
      "Epoch 26/100\n",
      "26742/26742 [==============================] - 3s 106us/sample - loss: 0.0018 - accuracy: 0.9996 - val_loss: 0.0189 - val_accuracy: 0.9956\n",
      "Epoch 27/100\n",
      "26742/26742 [==============================] - 3s 105us/sample - loss: 0.0018 - accuracy: 0.9996 - val_loss: 0.0189 - val_accuracy: 0.9953\n",
      "Epoch 28/100\n",
      "26742/26742 [==============================] - 3s 106us/sample - loss: 0.0017 - accuracy: 0.9996 - val_loss: 0.0188 - val_accuracy: 0.9956\n",
      "Epoch 29/100\n",
      "26742/26742 [==============================] - 3s 105us/sample - loss: 0.0018 - accuracy: 0.9996 - val_loss: 0.0190 - val_accuracy: 0.9956\n",
      "Epoch 30/100\n",
      "26742/26742 [==============================] - 3s 105us/sample - loss: 0.0018 - accuracy: 0.9996 - val_loss: 0.0189 - val_accuracy: 0.9953\n",
      "Epoch 31/100\n",
      "26742/26742 [==============================] - 3s 106us/sample - loss: 0.0018 - accuracy: 0.9996 - val_loss: 0.0193 - val_accuracy: 0.9956\n",
      "Epoch 32/100\n",
      "26742/26742 [==============================] - 3s 105us/sample - loss: 0.0018 - accuracy: 0.9996 - val_loss: 0.0188 - val_accuracy: 0.9955\n",
      "Epoch 33/100\n",
      "26742/26742 [==============================] - 3s 105us/sample - loss: 0.0018 - accuracy: 0.9996 - val_loss: 0.0186 - val_accuracy: 0.9955\n",
      "Epoch 34/100\n",
      "26742/26742 [==============================] - 3s 106us/sample - loss: 0.0018 - accuracy: 0.9996 - val_loss: 0.0196 - val_accuracy: 0.9956\n",
      "Epoch 35/100\n",
      "26742/26742 [==============================] - 3s 106us/sample - loss: 0.0018 - accuracy: 0.9996 - val_loss: 0.0194 - val_accuracy: 0.9957\n",
      "Epoch 36/100\n",
      "26742/26742 [==============================] - 3s 106us/sample - loss: 0.0017 - accuracy: 0.9996 - val_loss: 0.0192 - val_accuracy: 0.9957\n",
      "Epoch 37/100\n",
      "26742/26742 [==============================] - 3s 107us/sample - loss: 0.0018 - accuracy: 0.9996 - val_loss: 0.0193 - val_accuracy: 0.9957\n",
      "Epoch 38/100\n",
      "26742/26742 [==============================] - 3s 105us/sample - loss: 0.0017 - accuracy: 0.9996 - val_loss: 0.0188 - val_accuracy: 0.9955\n",
      "Epoch 39/100\n",
      "26742/26742 [==============================] - 3s 105us/sample - loss: 0.0018 - accuracy: 0.9996 - val_loss: 0.0196 - val_accuracy: 0.9957\n",
      "Epoch 40/100\n",
      "26742/26742 [==============================] - 3s 105us/sample - loss: 0.0018 - accuracy: 0.9996 - val_loss: 0.0192 - val_accuracy: 0.9957\n",
      "Epoch 41/100\n",
      "26742/26742 [==============================] - 3s 105us/sample - loss: 0.0018 - accuracy: 0.9996 - val_loss: 0.0192 - val_accuracy: 0.9957\n",
      "Epoch 42/100\n",
      "26742/26742 [==============================] - 3s 106us/sample - loss: 0.0018 - accuracy: 0.9996 - val_loss: 0.0193 - val_accuracy: 0.9957\n",
      "Epoch 43/100\n",
      "26742/26742 [==============================] - 3s 105us/sample - loss: 0.0018 - accuracy: 0.9996 - val_loss: 0.0199 - val_accuracy: 0.9958\n",
      "Epoch 44/100\n",
      "26742/26742 [==============================] - 3s 105us/sample - loss: 0.0018 - accuracy: 0.9996 - val_loss: 0.0196 - val_accuracy: 0.9958\n",
      "Epoch 45/100\n",
      "26742/26742 [==============================] - 3s 106us/sample - loss: 0.0018 - accuracy: 0.9996 - val_loss: 0.0197 - val_accuracy: 0.9958\n",
      "Epoch 46/100\n",
      "26742/26742 [==============================] - 3s 106us/sample - loss: 0.0017 - accuracy: 0.9996 - val_loss: 0.0198 - val_accuracy: 0.9957\n",
      "Epoch 47/100\n",
      "26742/26742 [==============================] - 3s 105us/sample - loss: 0.0018 - accuracy: 0.9996 - val_loss: 0.0197 - val_accuracy: 0.9958\n",
      "Epoch 48/100\n",
      "26742/26742 [==============================] - 3s 105us/sample - loss: 0.0017 - accuracy: 0.9996 - val_loss: 0.0203 - val_accuracy: 0.9958\n",
      "Epoch 49/100\n",
      "26742/26742 [==============================] - 3s 106us/sample - loss: 0.0017 - accuracy: 0.9996 - val_loss: 0.0197 - val_accuracy: 0.9958\n",
      "Epoch 50/100\n",
      "26742/26742 [==============================] - 3s 106us/sample - loss: 0.0017 - accuracy: 0.9996 - val_loss: 0.0192 - val_accuracy: 0.9960\n",
      "Epoch 51/100\n",
      "26742/26742 [==============================] - 3s 106us/sample - loss: 0.0017 - accuracy: 0.9996 - val_loss: 0.0201 - val_accuracy: 0.9958\n",
      "Epoch 52/100\n",
      "26742/26742 [==============================] - 3s 106us/sample - loss: 0.0018 - accuracy: 0.9996 - val_loss: 0.0200 - val_accuracy: 0.9960\n",
      "Epoch 53/100\n",
      "26742/26742 [==============================] - 3s 106us/sample - loss: 0.0018 - accuracy: 0.9996 - val_loss: 0.0198 - val_accuracy: 0.9957\n",
      "Epoch 54/100\n"
     ]
    },
    {
     "name": "stdout",
     "output_type": "stream",
     "text": [
      "26742/26742 [==============================] - 3s 106us/sample - loss: 0.0017 - accuracy: 0.9996 - val_loss: 0.0202 - val_accuracy: 0.9958\n",
      "Epoch 55/100\n",
      "26742/26742 [==============================] - 3s 106us/sample - loss: 0.0017 - accuracy: 0.9996 - val_loss: 0.0195 - val_accuracy: 0.9958\n",
      "Epoch 56/100\n",
      "26742/26742 [==============================] - 3s 105us/sample - loss: 0.0018 - accuracy: 0.9996 - val_loss: 0.0202 - val_accuracy: 0.9958\n",
      "Epoch 57/100\n",
      "26742/26742 [==============================] - 3s 106us/sample - loss: 0.0017 - accuracy: 0.9996 - val_loss: 0.0203 - val_accuracy: 0.9960\n",
      "Epoch 58/100\n",
      "26742/26742 [==============================] - 3s 106us/sample - loss: 0.0018 - accuracy: 0.9996 - val_loss: 0.0200 - val_accuracy: 0.9958\n",
      "Epoch 59/100\n",
      "26742/26742 [==============================] - 3s 107us/sample - loss: 0.0017 - accuracy: 0.9996 - val_loss: 0.0197 - val_accuracy: 0.9958\n",
      "Epoch 60/100\n",
      "26742/26742 [==============================] - 3s 106us/sample - loss: 0.0018 - accuracy: 0.9996 - val_loss: 0.0201 - val_accuracy: 0.9957\n",
      "Epoch 61/100\n",
      "26742/26742 [==============================] - 3s 105us/sample - loss: 0.0018 - accuracy: 0.9996 - val_loss: 0.0201 - val_accuracy: 0.9962\n",
      "Epoch 62/100\n",
      "26742/26742 [==============================] - 3s 106us/sample - loss: 0.0018 - accuracy: 0.9996 - val_loss: 0.0200 - val_accuracy: 0.9958\n",
      "Epoch 63/100\n",
      "26742/26742 [==============================] - 3s 106us/sample - loss: 0.0018 - accuracy: 0.9996 - val_loss: 0.0203 - val_accuracy: 0.9960\n",
      "Epoch 64/100\n",
      "26742/26742 [==============================] - 3s 106us/sample - loss: 0.0017 - accuracy: 0.9996 - val_loss: 0.0204 - val_accuracy: 0.9961\n",
      "Epoch 65/100\n",
      "26742/26742 [==============================] - 3s 106us/sample - loss: 0.0018 - accuracy: 0.9996 - val_loss: 0.0208 - val_accuracy: 0.9958\n",
      "Epoch 66/100\n",
      "26742/26742 [==============================] - 3s 107us/sample - loss: 0.0018 - accuracy: 0.9996 - val_loss: 0.0210 - val_accuracy: 0.9960\n",
      "Epoch 67/100\n",
      "26742/26742 [==============================] - 3s 106us/sample - loss: 0.0017 - accuracy: 0.9996 - val_loss: 0.0203 - val_accuracy: 0.9958\n",
      "Epoch 68/100\n",
      "26742/26742 [==============================] - 3s 106us/sample - loss: 0.0017 - accuracy: 0.9996 - val_loss: 0.0202 - val_accuracy: 0.9962\n",
      "Epoch 69/100\n",
      "26742/26742 [==============================] - 3s 106us/sample - loss: 0.0017 - accuracy: 0.9996 - val_loss: 0.0202 - val_accuracy: 0.9960\n",
      "Epoch 70/100\n",
      "26742/26742 [==============================] - 3s 106us/sample - loss: 0.3036 - accuracy: 0.9880 - val_loss: 1.8917 - val_accuracy: 0.7924\n",
      "Epoch 71/100\n",
      "26742/26742 [==============================] - 3s 106us/sample - loss: 0.2774 - accuracy: 0.9248 - val_loss: 0.1209 - val_accuracy: 0.9629\n",
      "Epoch 72/100\n",
      "26742/26742 [==============================] - 3s 106us/sample - loss: 0.0779 - accuracy: 0.9749 - val_loss: 0.0882 - val_accuracy: 0.9705\n",
      "Epoch 73/100\n",
      "26742/26742 [==============================] - 3s 106us/sample - loss: 0.0497 - accuracy: 0.9840 - val_loss: 0.1093 - val_accuracy: 0.9703\n",
      "Epoch 74/100\n",
      "26742/26742 [==============================] - 3s 107us/sample - loss: 0.0353 - accuracy: 0.9887 - val_loss: 0.0757 - val_accuracy: 0.9780\n",
      "Epoch 75/100\n",
      "26742/26742 [==============================] - 3s 107us/sample - loss: 0.0281 - accuracy: 0.9907 - val_loss: 0.0701 - val_accuracy: 0.9798\n",
      "Epoch 76/100\n",
      "26742/26742 [==============================] - 3s 107us/sample - loss: 0.0253 - accuracy: 0.9915 - val_loss: 0.0661 - val_accuracy: 0.9799\n",
      "Epoch 77/100\n",
      "26742/26742 [==============================] - 3s 107us/sample - loss: 0.0235 - accuracy: 0.9918 - val_loss: 0.0664 - val_accuracy: 0.9812\n",
      "Epoch 78/100\n",
      "26742/26742 [==============================] - 3s 107us/sample - loss: 0.0179 - accuracy: 0.9940 - val_loss: 0.0623 - val_accuracy: 0.9830\n",
      "Epoch 79/100\n",
      "26742/26742 [==============================] - 3s 107us/sample - loss: 0.0156 - accuracy: 0.9949 - val_loss: 0.0561 - val_accuracy: 0.9850\n",
      "Epoch 80/100\n",
      "26742/26742 [==============================] - 3s 107us/sample - loss: 0.0160 - accuracy: 0.9945 - val_loss: 0.0621 - val_accuracy: 0.9834\n",
      "Epoch 81/100\n",
      "26742/26742 [==============================] - 3s 107us/sample - loss: 0.0146 - accuracy: 0.9952 - val_loss: 0.0604 - val_accuracy: 0.9846\n",
      "Epoch 82/100\n",
      "26742/26742 [==============================] - 3s 107us/sample - loss: 0.0108 - accuracy: 0.9965 - val_loss: 0.0530 - val_accuracy: 0.9874\n",
      "Epoch 83/100\n",
      "26742/26742 [==============================] - 3s 107us/sample - loss: 0.0062 - accuracy: 0.9983 - val_loss: 0.0765 - val_accuracy: 0.9833\n",
      "Epoch 84/100\n",
      "26742/26742 [==============================] - 3s 107us/sample - loss: 0.0149 - accuracy: 0.9951 - val_loss: 0.0535 - val_accuracy: 0.9869\n",
      "Epoch 85/100\n",
      "26742/26742 [==============================] - 3s 107us/sample - loss: 0.0112 - accuracy: 0.9966 - val_loss: 0.0609 - val_accuracy: 0.9875\n",
      "Epoch 86/100\n",
      "26742/26742 [==============================] - 3s 107us/sample - loss: 0.0087 - accuracy: 0.9974 - val_loss: 0.0631 - val_accuracy: 0.9854\n",
      "Epoch 87/100\n",
      "26742/26742 [==============================] - 3s 107us/sample - loss: 0.0087 - accuracy: 0.9977 - val_loss: 0.0516 - val_accuracy: 0.9881\n",
      "Epoch 88/100\n",
      "26742/26742 [==============================] - 3s 108us/sample - loss: 0.0180 - accuracy: 0.9945 - val_loss: 0.0519 - val_accuracy: 0.9889\n",
      "Epoch 89/100\n",
      "26742/26742 [==============================] - 3s 108us/sample - loss: 0.0058 - accuracy: 0.9983 - val_loss: 0.0567 - val_accuracy: 0.9867\n",
      "Epoch 90/100\n",
      "26742/26742 [==============================] - 3s 109us/sample - loss: 0.0062 - accuracy: 0.9981 - val_loss: 0.0413 - val_accuracy: 0.9916\n",
      "Epoch 91/100\n",
      "26742/26742 [==============================] - 3s 109us/sample - loss: 0.0027 - accuracy: 0.9991 - val_loss: 0.0486 - val_accuracy: 0.9923\n",
      "Epoch 92/100\n",
      "26742/26742 [==============================] - 3s 108us/sample - loss: 0.0021 - accuracy: 0.9995 - val_loss: 0.0385 - val_accuracy: 0.9925\n",
      "Epoch 93/100\n",
      "26742/26742 [==============================] - 3s 107us/sample - loss: 0.0019 - accuracy: 0.9995 - val_loss: 0.0386 - val_accuracy: 0.9933\n",
      "Epoch 94/100\n",
      "26742/26742 [==============================] - 3s 108us/sample - loss: 0.0018 - accuracy: 0.9996 - val_loss: 0.0407 - val_accuracy: 0.9927\n",
      "Epoch 95/100\n",
      "26742/26742 [==============================] - 3s 107us/sample - loss: 0.0020 - accuracy: 0.9994 - val_loss: 0.0400 - val_accuracy: 0.9914\n",
      "Epoch 96/100\n",
      "26742/26742 [==============================] - 3s 108us/sample - loss: 0.0021 - accuracy: 0.9995 - val_loss: 0.0396 - val_accuracy: 0.9930\n",
      "Epoch 97/100\n",
      "26742/26742 [==============================] - 3s 107us/sample - loss: 0.0019 - accuracy: 0.9995 - val_loss: 0.0402 - val_accuracy: 0.9929\n",
      "Epoch 98/100\n",
      "26742/26742 [==============================] - 3s 108us/sample - loss: 0.0021 - accuracy: 0.9995 - val_loss: 0.0404 - val_accuracy: 0.9924\n",
      "Epoch 99/100\n",
      "26742/26742 [==============================] - 3s 107us/sample - loss: 0.0018 - accuracy: 0.9996 - val_loss: 0.0392 - val_accuracy: 0.9926\n",
      "Epoch 100/100\n",
      "26742/26742 [==============================] - 3s 108us/sample - loss: 0.0018 - accuracy: 0.9996 - val_loss: 0.0399 - val_accuracy: 0.9926\n"
     ]
    }
   ],
   "source": [
    "# === Train the Model to Our Data for 25 Epochs === #\n",
    "conv_hist = conv_model.fit( X_train,\n",
    "                            y_train,\n",
    "                            batch_size=128,\n",
    "                            epochs=100,\n",
    "                            validation_data=( X_test , y_test ) )\n",
    "\n",
    "# === Extract History Values for Later Plotting === #\n",
    "conv_hist_dict = conv_hist.history"
   ]
  },
  {
   "cell_type": "markdown",
   "metadata": {},
   "source": [
    "### Plot Model Training and Validation Accuracies\n",
    "\n",
    "To have a better visualization of our model's performance, we will plot both the training and validation accuracies on the same set of axes. Note that there shouldn't be much chance of overfitting, since the number of epochs and the size of the batch are low compared to the nubmer of trainable parameters."
   ]
  },
  {
   "cell_type": "code",
   "execution_count": 13,
   "metadata": {},
   "outputs": [
    {
     "data": {
      "image/png": "[encoded data removed]",
      "text/plain": [
       "<Figure size 432x288 with 1 Axes>"
      ]
     },
     "metadata": {
      "needs_background": "light"
     },
     "output_type": "display_data"
    }
   ],
   "source": [
    "# === Plot the Data === #\n",
    "plt.plot( conv_hist_dict['accuracy']     , label='Training Accuracy' )\n",
    "plt.plot( conv_hist_dict['val_accuracy'] , label='Testing Accuracy'  )\n",
    "\n",
    "# === Label the Chart === #\n",
    "plt.xlabel( 'Epoch' )\n",
    "plt.ylabel( 'Accuracy' )\n",
    "plt.title( 'Accuracy During Training' )\n",
    "plt.legend( )\n",
    "\n",
    "# === Display the Chart === #\n",
    "plt.show( )"
   ]
  },
  {
   "cell_type": "markdown",
   "metadata": {},
   "source": [
    "### Saving the Model\n",
    "\n",
    "Now we will save the model as a .h5 file. You can replace the `'your_model_name.h5'` with any file name you desire, as long as the file format can be later read by keras for model loading in other applications. "
   ]
  },
  {
   "cell_type": "code",
   "execution_count": 14,
   "metadata": {},
   "outputs": [],
   "source": [
    "tf.keras.models.save_model(\n",
    "    conv_model,\n",
    "    'your_model_name.h5',\n",
    "    overwrite=True,\n",
    "    include_optimizer=True,\n",
    "    save_format=None,\n",
    "    signatures=None,\n",
    "    options=None\n",
    ")"
   ]
  },
  {
   "cell_type": "markdown",
   "metadata": {},
   "source": [
    "### Testing Model Performance\n",
    "\n",
    "To demonstrate the effectiveness of the model, we will select a random image from the training dataset, plot it with matplotlib, and use the model's predicted label as the title."
   ]
  },
  {
   "cell_type": "code",
   "execution_count": 19,
   "metadata": {},
   "outputs": [
    {
     "data": {
      "image/png": "[encoded data removed]",
      "text/plain": [
       "<Figure size 432x288 with 1 Axes>"
      ]
     },
     "metadata": {
      "needs_background": "light"
     },
     "output_type": "display_data"
    }
   ],
   "source": [
    "# === Select Demonstration Image === #\n",
    "test_idx = np.random.choice( range( len( X_test ) ) )\n",
    "\n",
    "# === Determine Classification === #\n",
    "weights = conv_model.predict(X_test[test_idx].reshape(1,X_test[test_idx].shape[0], X_test[test_idx].shape[1], X_test[0].shape[2]))\n",
    "classification = classes[np.argmax(weights)]\n",
    "\n",
    "# === Plot the Image with Class as Title === #\n",
    "plt.figure()\n",
    "plt.imshow(X_test[test_idx].reshape(X_test[test_idx].shape[0], X_test[test_idx].shape[1]),cmap='gray')\n",
    "plt.title(classification)\n",
    "plt.show()"
   ]
  },
  {
   "cell_type": "markdown",
   "metadata": {},
   "source": [
    "### Dataset Information\n",
    "\n",
    "Report on the size of the dataset for use in the report later."
   ]
  },
  {
   "cell_type": "code",
   "execution_count": 20,
   "metadata": {},
   "outputs": [
    {
     "name": "stdout",
     "output_type": "stream",
     "text": [
      "Number of Training Items: 26742\n",
      "Number of Testing Items:  8915\n",
      "Full Dataset Contained 35657 Frames\n"
     ]
    }
   ],
   "source": [
    "print('Number of Training Items: {}'.format(len(y_train)))\n",
    "print('Number of Testing Items:  {}'.format(len(y_test)))\n",
    "print('Full Dataset Contained {} Frames'.format(len(arr)))"
   ]
  },
  {
   "cell_type": "code",
   "execution_count": null,
   "metadata": {},
   "outputs": [],
   "source": []
  }
 ],
 "metadata": {
  "kernelspec": {
   "display_name": "Python 3",
   "language": "python",
   "name": "python3"
  },
  "language_info": {
   "codemirror_mode": {
    "name": "ipython",
    "version": 3
   },
   "file_extension": ".py",
   "mimetype": "text/x-python",
   "name": "python",
   "nbconvert_exporter": "python",
   "pygments_lexer": "ipython3",
   "version": "3.7.7"
  }
 },
 "nbformat": 4,
 "nbformat_minor": 4
}
